{
 "cells": [
  {
   "cell_type": "code",
   "execution_count": null,
   "id": "b60628cb",
   "metadata": {},
   "outputs": [],
   "source": []
  },
  {
   "cell_type": "markdown",
   "id": "ea376612",
   "metadata": {},
   "source": [
    "# Libraries"
   ]
  },
  {
   "cell_type": "code",
   "execution_count": 7,
   "id": "ecfdfcf4",
   "metadata": {},
   "outputs": [],
   "source": [
    "import pandas as pd"
   ]
  },
  {
   "cell_type": "markdown",
   "id": "d44914d1",
   "metadata": {},
   "source": [
    "# Loading the Dataset"
   ]
  },
  {
   "cell_type": "code",
   "execution_count": 8,
   "id": "fd8be482",
   "metadata": {},
   "outputs": [
    {
     "name": "stdout",
     "output_type": "stream",
     "text": [
      "DATAFRAME SIZE: 389196\n"
     ]
    }
   ],
   "source": [
    "df = pd.read_csv(\"TRNcod.xls\",sep=\"\\t\")\n",
    "print(f\"DATAFRAME SIZE: {len(df)}\")"
   ]
  },
  {
   "cell_type": "markdown",
   "id": "2ba86598",
   "metadata": {},
   "source": [
    "# Separating Dataframe in Classes"
   ]
  },
  {
   "cell_type": "code",
   "execution_count": 9,
   "id": "4f76abc2",
   "metadata": {},
   "outputs": [
    {
     "name": "stdout",
     "output_type": "stream",
     "text": [
      "DATAFRAME SIZE:\n",
      "IND_BOM_1_1: 255098\n",
      "IND_BOM_1_2: 134098\n"
     ]
    }
   ],
   "source": [
    "df_1_1=df[df[\"IND_BOM_1_1\"]==1]\n",
    "df_1_2=df[df[\"IND_BOM_1_2\"]==1]\n",
    "print(\"DATAFRAME SIZE:\")\n",
    "print(f\"IND_BOM_1_1: {len(df_1_1)}\")\n",
    "print(f\"IND_BOM_1_2: {len(df_1_2)}\")"
   ]
  },
  {
   "cell_type": "markdown",
   "id": "a7076f49",
   "metadata": {},
   "source": [
    "# Randomizing DataFrame"
   ]
  },
  {
   "cell_type": "code",
   "execution_count": 10,
   "id": "807e5753",
   "metadata": {},
   "outputs": [],
   "source": [
    "df_1_1=df_1_1.sample(frac=1, random_state=1).reset_index(drop=True)\n",
    "df_1_2=df_1_2.sample(frac=1, random_state=1).reset_index(drop=True)"
   ]
  },
  {
   "cell_type": "markdown",
   "id": "44ab6fd6",
   "metadata": {},
   "source": [
    "# Separating Data in Train, Validation and Test"
   ]
  },
  {
   "cell_type": "markdown",
   "id": "7ed11118",
   "metadata": {},
   "source": [
    "## IND_BOM_1_1"
   ]
  },
  {
   "cell_type": "code",
   "execution_count": 11,
   "id": "a0ea8ae1",
   "metadata": {},
   "outputs": [],
   "source": [
    "df_1_1_train = df_1_1.sample(frac=0.5)\n",
    "df_1_1 = df_1_1.drop(df_1_1_train.index)\n",
    "df_1_1_val = df_1_1.sample(frac=0.5)\n",
    "df_1_1_test = df_1_1.drop(df_1_1_val.index)\n",
    "\n",
    "df_1_1_train = df_1_1_train.reset_index(drop=True)\n",
    "df_1_1_val = df_1_1_val.reset_index(drop=True)\n",
    "df_1_1_test = df_1_1_test.reset_index(drop=True)"
   ]
  },
  {
   "cell_type": "code",
   "execution_count": 12,
   "id": "a3793fe7",
   "metadata": {},
   "outputs": [
    {
     "name": "stdout",
     "output_type": "stream",
     "text": [
      "DATAFRAME SIZE:\n",
      "TRAIN DATA: 127549\n",
      "VALIDATION DATA: 63774\n",
      "TEST DATA: 63775\n"
     ]
    }
   ],
   "source": [
    "print(\"DATAFRAME SIZE:\")\n",
    "print(f\"TRAIN DATA: {len(df_1_1_train)}\")\n",
    "print(f\"VALIDATION DATA: {len(df_1_1_val)}\")\n",
    "print(f\"TEST DATA: {len(df_1_1_test)}\")"
   ]
  },
  {
   "cell_type": "markdown",
   "id": "11e8e156",
   "metadata": {},
   "source": [
    "## IND_BOM_1_2"
   ]
  },
  {
   "cell_type": "code",
   "execution_count": 13,
   "id": "bfd331bc",
   "metadata": {},
   "outputs": [],
   "source": [
    "df_1_2_train = df_1_2.sample(frac=0.5)\n",
    "df_1_2 = df_1_2.drop(df_1_2_train.index)\n",
    "df_1_2_val = df_1_2.sample(frac=0.5)\n",
    "df_1_2_test = df_1_2.drop(df_1_2_val.index)\n",
    "\n",
    "df_1_2_train = df_1_2_train.reset_index(drop=True)\n",
    "df_1_2_val = df_1_2_val.reset_index(drop=True)\n",
    "df_1_2_test = df_1_2_test.reset_index(drop=True)\n"
   ]
  },
  {
   "cell_type": "code",
   "execution_count": 14,
   "id": "bbbbbbc6",
   "metadata": {},
   "outputs": [
    {
     "name": "stdout",
     "output_type": "stream",
     "text": [
      "DATAFRAME SIZE:\n",
      "TRAIN DATA: 67049\n",
      "VALIDATION DATA: 33524\n",
      "TEST DATA: 33525\n"
     ]
    }
   ],
   "source": [
    "print(\"DATAFRAME SIZE:\")\n",
    "print(f\"TRAIN DATA: {len(df_1_2_train)}\")\n",
    "print(f\"VALIDATION DATA: {len(df_1_2_val)}\")\n",
    "print(f\"TEST DATA: {len(df_1_2_test)}\")"
   ]
  },
  {
   "cell_type": "markdown",
   "id": "4bc65e19",
   "metadata": {},
   "source": [
    "# Concatenating the Dataset with the Minority Class with Its first rows"
   ]
  },
  {
   "cell_type": "code",
   "execution_count": 15,
   "id": "1cf413a3",
   "metadata": {},
   "outputs": [],
   "source": [
    "df_1_2_train = pd.concat((df_1_2_train, df_1_2_train.iloc[:len(df_1_1_train)-len(df_1_2_train)]), axis = 0)\n",
    "df_1_2_val = pd.concat((df_1_2_val, df_1_2_val.iloc[:len(df_1_1_val)-len(df_1_2_val)]), axis = 0)"
   ]
  },
  {
   "cell_type": "code",
   "execution_count": 16,
   "id": "e5bed6bd",
   "metadata": {},
   "outputs": [
    {
     "name": "stdout",
     "output_type": "stream",
     "text": [
      "DATAFRAME SIZE:\n",
      "TRAIN DATA: 127549\n",
      "VALIDATION DATA: 63774\n",
      "TEST DATA: 33525\n"
     ]
    }
   ],
   "source": [
    "print(\"DATAFRAME SIZE:\")\n",
    "print(f\"TRAIN DATA: {len(df_1_2_train)}\")\n",
    "print(f\"VALIDATION DATA: {len(df_1_2_val)}\")\n",
    "print(f\"TEST DATA: {len(df_1_2_test)}\")"
   ]
  },
  {
   "cell_type": "markdown",
   "id": "f949be9a",
   "metadata": {},
   "source": [
    "# Merging Dataset Containing Both Classes"
   ]
  },
  {
   "cell_type": "code",
   "execution_count": 17,
   "id": "059453f1",
   "metadata": {},
   "outputs": [],
   "source": [
    "train_data = pd.concat((df_1_1_train, df_1_2_train), axis = 0)\n",
    "val_data = pd.concat((df_1_1_val, df_1_2_val), axis = 0)\n",
    "test_data = pd.concat((df_1_1_test, df_1_2_test), axis = 0)"
   ]
  },
  {
   "cell_type": "code",
   "execution_count": 18,
   "id": "b5fad3b5",
   "metadata": {},
   "outputs": [],
   "source": [
    "train_data = train_data.sample(frac=1, random_state=1).reset_index(drop=True)\n",
    "val_data = val_data.sample(frac=1, random_state=1).reset_index(drop=True)\n",
    "test_data = test_data.sample(frac=1, random_state=1).reset_index(drop=True)"
   ]
  },
  {
   "cell_type": "code",
   "execution_count": 19,
   "id": "d2dd20ba",
   "metadata": {},
   "outputs": [
    {
     "name": "stdout",
     "output_type": "stream",
     "text": [
      "DATAFRAME SIZE:\n",
      "TRAIN DATA: 255098\n",
      "VALIDATION DATA: 127548\n",
      "TEST DATA: 97300\n"
     ]
    }
   ],
   "source": [
    "print(\"DATAFRAME SIZE:\")\n",
    "print(f\"TRAIN DATA: {len(train_data)}\")\n",
    "print(f\"VALIDATION DATA: {len(val_data)}\")\n",
    "print(f\"TEST DATA: {len(test_data)}\")"
   ]
  },
  {
   "cell_type": "markdown",
   "id": "3ea4a736",
   "metadata": {},
   "source": [
    "# Checking if The Steps were Done Correct"
   ]
  },
  {
   "cell_type": "markdown",
   "id": "c734cb63",
   "metadata": {},
   "source": [
    "## Checking for Intersection Between the Data"
   ]
  },
  {
   "cell_type": "code",
   "execution_count": 20,
   "id": "e7730994",
   "metadata": {},
   "outputs": [],
   "source": [
    "train_index = set(train_data[\"INDEX\"])\n",
    "val_index = set(val_data[\"INDEX\"])\n",
    "test_index = set(test_data[\"INDEX\"])"
   ]
  },
  {
   "cell_type": "code",
   "execution_count": 21,
   "id": "2c89dc26",
   "metadata": {},
   "outputs": [
    {
     "name": "stdout",
     "output_type": "stream",
     "text": [
      "DATAFRAME SIZE:\n",
      "TRAIN DATA: 127549\n",
      "VALIDATION DATA: 63774\n",
      "TEST DATA: 33525\n"
     ]
    }
   ],
   "source": [
    "print(\"DATAFRAME SIZE:\")\n",
    "print(f\"TRAIN DATA: {len(df_1_2_train)}\")\n",
    "print(f\"VALIDATION DATA: {len(df_1_2_val)}\")\n",
    "print(f\"TEST DATA: {len(df_1_2_test)}\")"
   ]
  },
  {
   "cell_type": "code",
   "execution_count": 22,
   "id": "91d8d69c",
   "metadata": {},
   "outputs": [],
   "source": [
    "train_val_intersection = train_index.intersection(val_index)\n",
    "train_test_intersection = train_index.intersection(test_index)\n",
    "val_test_intersection = val_index.intersection(test_index)\n",
    "\n",
    "assert not train_val_intersection, f\"Intersection {train_val_intersection} found between train and validation datasets!\"\n",
    "assert not train_test_intersection, f\"Intersection {train_test_intersection} found between train and test datasets!\"\n",
    "assert not train_test_intersection, f\"Intersection {val_test_intersection} found between validation and test datasets!\""
   ]
  },
  {
   "cell_type": "markdown",
   "id": "d8b230a8",
   "metadata": {},
   "source": [
    "## Checking if Both Classes have The Same Amount of Data"
   ]
  },
  {
   "cell_type": "code",
   "execution_count": 23,
   "id": "5feb0b02",
   "metadata": {},
   "outputs": [],
   "source": [
    "assert len(train_data[train_data[\"IND_BOM_1_1\"]==1]) == len(train_data[train_data[\"IND_BOM_1_2\"]==1]), \"Train data classes have mismatching sizes!\"\n",
    "assert len(val_data[val_data[\"IND_BOM_1_1\"]==1]) == len(val_data[val_data[\"IND_BOM_1_2\"]==1]), \"Validation data classes have mismatching sizes!\""
   ]
  },
  {
   "cell_type": "code",
   "execution_count": null,
   "id": "f1cb9d5e",
   "metadata": {},
   "outputs": [],
   "source": []
  },
  {
   "cell_type": "markdown",
   "id": "43bcf6e6",
   "metadata": {},
   "source": [
    "# Saving Data to CSV File"
   ]
  },
  {
   "cell_type": "code",
   "execution_count": 24,
   "id": "5665a95e",
   "metadata": {},
   "outputs": [],
   "source": [
    "train_data.to_csv(\"train.csv\")\n",
    "val_data.to_csv(\"val.csv\")\n",
    "test_data.to_csv(\"test.csv\")"
   ]
  },
  {
   "cell_type": "code",
   "execution_count": null,
   "id": "3566112c",
   "metadata": {},
   "outputs": [],
   "source": []
  },
  {
   "cell_type": "code",
   "execution_count": null,
   "id": "ee5002ab",
   "metadata": {},
   "outputs": [],
   "source": []
  }
 ],
 "metadata": {
  "kernelspec": {
   "display_name": "Python 3.9.13 64-bit (microsoft store)",
   "language": "python",
   "name": "python3"
  },
  "language_info": {
   "codemirror_mode": {
    "name": "ipython",
    "version": 3
   },
   "file_extension": ".py",
   "mimetype": "text/x-python",
   "name": "python",
   "nbconvert_exporter": "python",
   "pygments_lexer": "ipython3",
   "version": "3.9.13"
  },
  "latex_envs": {
   "LaTeX_envs_menu_present": true,
   "autoclose": true,
   "autocomplete": true,
   "bibliofile": "biblio.bib",
   "cite_by": "apalike",
   "current_citInitial": 1,
   "eqLabelWithNumbers": true,
   "eqNumInitial": 1,
   "hotkeys": {
    "equation": "Ctrl-E",
    "itemize": "Ctrl-I"
   },
   "labels_anchors": false,
   "latex_user_defs": false,
   "report_style_numbering": true,
   "user_envs_cfg": false
  },
  "vscode": {
   "interpreter": {
    "hash": "a2f8a9961e4e3e3eb2e6384cb03ecb838c84b9dfefbe3bb8339947905107b3ea"
   }
  }
 },
 "nbformat": 4,
 "nbformat_minor": 5
}
